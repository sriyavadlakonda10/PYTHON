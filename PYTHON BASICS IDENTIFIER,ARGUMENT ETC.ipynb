{
 "cells": [
  {
   "cell_type": "code",
   "execution_count": 1,
   "id": "7fadffda",
   "metadata": {},
   "outputs": [
    {
     "name": "stdout",
     "output_type": "stream",
     "text": [
      "Hello there!\n",
      "How are you?\n",
      "I'm doing fine.\n"
     ]
    }
   ],
   "source": [
    "print(\"Hello there!\\nHow are you?\\nI\\'m doing fine.\")"
   ]
  },
  {
   "cell_type": "code",
   "execution_count": 2,
   "id": "dc8e5090",
   "metadata": {},
   "outputs": [
    {
     "name": "stdout",
     "output_type": "stream",
     "text": [
      "Hello there!\\nHow are you?\\nI\\'m doing fine.\n"
     ]
    }
   ],
   "source": [
    ">>> print(r\"Hello there!\\nHow are you?\\nI\\'m doing fine.\")"
   ]
  },
  {
   "cell_type": "code",
   "execution_count": 3,
   "id": "02b004a9",
   "metadata": {},
   "outputs": [
    {
     "name": "stdout",
     "output_type": "stream",
     "text": [
      "Dear Alice,\n",
      "\n",
      "Eve's cat has been arrested for catnapping,\n",
      "cat burglary, and extortion.\n",
      "\n",
      "Sincerely,\n",
      "Bob\n"
     ]
    }
   ],
   "source": [
    ">>> print(\n",
    "... \"\"\"Dear Alice,\n",
    "...\n",
    "... Eve's cat has been arrested for catnapping,\n",
    "... cat burglary, and extortion.\n",
    "...\n",
    "... Sincerely,\n",
    "... Bob\"\"\"\n",
    "... )"
   ]
  },
  {
   "cell_type": "code",
   "execution_count": 4,
   "id": "d12a055c",
   "metadata": {},
   "outputs": [
    {
     "data": {
      "text/plain": [
       "'H'"
      ]
     },
     "execution_count": 4,
     "metadata": {},
     "output_type": "execute_result"
    }
   ],
   "source": [
    ">>> spam = 'Hello world!'\n",
    ">>> spam[0]"
   ]
  },
  {
   "cell_type": "code",
   "execution_count": 5,
   "id": "f01edb42",
   "metadata": {},
   "outputs": [
    {
     "data": {
      "text/plain": [
       "'o'"
      ]
     },
     "execution_count": 5,
     "metadata": {},
     "output_type": "execute_result"
    }
   ],
   "source": [
    ">>> spam[4]"
   ]
  },
  {
   "cell_type": "code",
   "execution_count": 6,
   "id": "f2e87da5",
   "metadata": {},
   "outputs": [
    {
     "data": {
      "text/plain": [
       "'!'"
      ]
     },
     "execution_count": 6,
     "metadata": {},
     "output_type": "execute_result"
    }
   ],
   "source": [
    ">>> spam[-1]"
   ]
  },
  {
   "cell_type": "code",
   "execution_count": 7,
   "id": "53f394ee",
   "metadata": {},
   "outputs": [],
   "source": [
    ">>> spam = 'Hello world!'"
   ]
  },
  {
   "cell_type": "code",
   "execution_count": 8,
   "id": "8b0ece1d",
   "metadata": {},
   "outputs": [
    {
     "data": {
      "text/plain": [
       "'Hello'"
      ]
     },
     "execution_count": 8,
     "metadata": {},
     "output_type": "execute_result"
    }
   ],
   "source": [
    ">>> spam[0:5]"
   ]
  },
  {
   "cell_type": "code",
   "execution_count": 9,
   "id": "470184c4",
   "metadata": {},
   "outputs": [
    {
     "data": {
      "text/plain": [
       "'Hello'"
      ]
     },
     "execution_count": 9,
     "metadata": {},
     "output_type": "execute_result"
    }
   ],
   "source": [
    ">>> spam[:5]"
   ]
  },
  {
   "cell_type": "code",
   "execution_count": null,
   "id": "ee68f931",
   "metadata": {},
   "outputs": [],
   "source": [
    "# 'world!'"
   ]
  },
  {
   "cell_type": "code",
   "execution_count": 10,
   "id": "bb66927d",
   "metadata": {},
   "outputs": [
    {
     "data": {
      "text/plain": [
       "'world'"
      ]
     },
     "execution_count": 10,
     "metadata": {},
     "output_type": "execute_result"
    }
   ],
   "source": [
    ">>> spam[6:-1]"
   ]
  },
  {
   "cell_type": "code",
   "execution_count": 11,
   "id": "87773917",
   "metadata": {},
   "outputs": [
    {
     "data": {
      "text/plain": [
       "'Hello world'"
      ]
     },
     "execution_count": 11,
     "metadata": {},
     "output_type": "execute_result"
    }
   ],
   "source": [
    ">>> spam[:-1]"
   ]
  },
  {
   "cell_type": "code",
   "execution_count": 12,
   "id": "072d4931",
   "metadata": {},
   "outputs": [
    {
     "data": {
      "text/plain": [
       "'!dlrow olleH'"
      ]
     },
     "execution_count": 12,
     "metadata": {},
     "output_type": "execute_result"
    }
   ],
   "source": [
    ">>> spam[::-1]"
   ]
  },
  {
   "cell_type": "code",
   "execution_count": 13,
   "id": "c884d412",
   "metadata": {},
   "outputs": [
    {
     "data": {
      "text/plain": [
       "'Hello'"
      ]
     },
     "execution_count": 13,
     "metadata": {},
     "output_type": "execute_result"
    }
   ],
   "source": [
    ">>> fizz = spam[0:5]\n",
    ">>> fizz"
   ]
  },
  {
   "cell_type": "code",
   "execution_count": 14,
   "id": "5f1ddd3a",
   "metadata": {},
   "outputs": [
    {
     "data": {
      "text/plain": [
       "True"
      ]
     },
     "execution_count": 14,
     "metadata": {},
     "output_type": "execute_result"
    }
   ],
   "source": [
    ">>> 'Hello' in 'Hello World'"
   ]
  },
  {
   "cell_type": "code",
   "execution_count": 15,
   "id": "7aad8e0b",
   "metadata": {},
   "outputs": [
    {
     "data": {
      "text/plain": [
       "True"
      ]
     },
     "execution_count": 15,
     "metadata": {},
     "output_type": "execute_result"
    }
   ],
   "source": [
    ">>> 'Hello' in 'Hello'"
   ]
  },
  {
   "cell_type": "code",
   "execution_count": 16,
   "id": "9cf58968",
   "metadata": {},
   "outputs": [
    {
     "data": {
      "text/plain": [
       "False"
      ]
     },
     "execution_count": 16,
     "metadata": {},
     "output_type": "execute_result"
    }
   ],
   "source": [
    ">>> 'HELLO' in 'Hello World'"
   ]
  },
  {
   "cell_type": "code",
   "execution_count": 17,
   "id": "767c3dc7",
   "metadata": {},
   "outputs": [
    {
     "data": {
      "text/plain": [
       "True"
      ]
     },
     "execution_count": 17,
     "metadata": {},
     "output_type": "execute_result"
    }
   ],
   "source": [
    ">>> '' in 'spam'"
   ]
  },
  {
   "cell_type": "code",
   "execution_count": 18,
   "id": "16e43c38",
   "metadata": {},
   "outputs": [
    {
     "data": {
      "text/plain": [
       "False"
      ]
     },
     "execution_count": 18,
     "metadata": {},
     "output_type": "execute_result"
    }
   ],
   "source": [
    ">>> 'cats' not in 'cats and dogs'"
   ]
  },
  {
   "cell_type": "code",
   "execution_count": 19,
   "id": "e99a017a",
   "metadata": {},
   "outputs": [
    {
     "data": {
      "text/plain": [
       "'HELLO WORLD!'"
      ]
     },
     "execution_count": 19,
     "metadata": {},
     "output_type": "execute_result"
    }
   ],
   "source": [
    ">>> greet = 'Hello world!'\n",
    ">>> greet.upper()"
   ]
  },
  {
   "cell_type": "code",
   "execution_count": 20,
   "id": "9c87f2e5",
   "metadata": {},
   "outputs": [
    {
     "data": {
      "text/plain": [
       "'hello world!'"
      ]
     },
     "execution_count": 20,
     "metadata": {},
     "output_type": "execute_result"
    }
   ],
   "source": [
    ">>> greet.lower()"
   ]
  },
  {
   "cell_type": "code",
   "execution_count": 21,
   "id": "592daf6c",
   "metadata": {},
   "outputs": [
    {
     "data": {
      "text/plain": [
       "'Hello World!'"
      ]
     },
     "execution_count": 21,
     "metadata": {},
     "output_type": "execute_result"
    }
   ],
   "source": [
    ">>> greet.title()"
   ]
  },
  {
   "cell_type": "code",
   "execution_count": 22,
   "id": "deb33070",
   "metadata": {},
   "outputs": [
    {
     "data": {
      "text/plain": [
       "False"
      ]
     },
     "execution_count": 22,
     "metadata": {},
     "output_type": "execute_result"
    }
   ],
   "source": [
    ">>> spam = 'Hello world!'\n",
    ">>> spam.islower()"
   ]
  },
  {
   "cell_type": "code",
   "execution_count": 23,
   "id": "5421d344",
   "metadata": {
    "scrolled": true
   },
   "outputs": [
    {
     "data": {
      "text/plain": [
       "False"
      ]
     },
     "execution_count": 23,
     "metadata": {},
     "output_type": "execute_result"
    }
   ],
   "source": [
    ">>> spam.isupper()"
   ]
  },
  {
   "cell_type": "code",
   "execution_count": 24,
   "id": "12103f05",
   "metadata": {},
   "outputs": [
    {
     "data": {
      "text/plain": [
       "True"
      ]
     },
     "execution_count": 24,
     "metadata": {},
     "output_type": "execute_result"
    }
   ],
   "source": [
    ">>> 'HELLO'.isupper()"
   ]
  },
  {
   "cell_type": "code",
   "execution_count": 25,
   "id": "e1458084",
   "metadata": {},
   "outputs": [
    {
     "data": {
      "text/plain": [
       "True"
      ]
     },
     "execution_count": 25,
     "metadata": {},
     "output_type": "execute_result"
    }
   ],
   "source": [
    ">>> 'abc12345'.islower()"
   ]
  },
  {
   "cell_type": "code",
   "execution_count": 26,
   "id": "96e8bc7d",
   "metadata": {},
   "outputs": [
    {
     "data": {
      "text/plain": [
       "False"
      ]
     },
     "execution_count": 26,
     "metadata": {},
     "output_type": "execute_result"
    }
   ],
   "source": [
    ">>> '12345'.islower()"
   ]
  },
  {
   "cell_type": "code",
   "execution_count": 27,
   "id": "c42b13a7",
   "metadata": {},
   "outputs": [
    {
     "data": {
      "text/plain": [
       "False"
      ]
     },
     "execution_count": 27,
     "metadata": {},
     "output_type": "execute_result"
    }
   ],
   "source": [
    ">>> '12345'.isupper()"
   ]
  },
  {
   "cell_type": "code",
   "execution_count": 28,
   "id": "ae11f921",
   "metadata": {},
   "outputs": [
    {
     "data": {
      "text/plain": [
       "True"
      ]
     },
     "execution_count": 28,
     "metadata": {},
     "output_type": "execute_result"
    }
   ],
   "source": [
    ">>> 'Hello world!'.startswith('Hello')"
   ]
  },
  {
   "cell_type": "code",
   "execution_count": 29,
   "id": "d5a0d6d4",
   "metadata": {},
   "outputs": [
    {
     "data": {
      "text/plain": [
       "True"
      ]
     },
     "execution_count": 29,
     "metadata": {},
     "output_type": "execute_result"
    }
   ],
   "source": [
    ">>> 'Hello world!'.endswith('world!')"
   ]
  },
  {
   "cell_type": "code",
   "execution_count": 30,
   "id": "76a685e5",
   "metadata": {},
   "outputs": [
    {
     "data": {
      "text/plain": [
       "False"
      ]
     },
     "execution_count": 30,
     "metadata": {},
     "output_type": "execute_result"
    }
   ],
   "source": [
    ">>> 'abc123'.startswith('abcdef')"
   ]
  },
  {
   "cell_type": "code",
   "execution_count": 31,
   "id": "3402fa54",
   "metadata": {},
   "outputs": [
    {
     "data": {
      "text/plain": [
       "False"
      ]
     },
     "execution_count": 31,
     "metadata": {},
     "output_type": "execute_result"
    }
   ],
   "source": [
    ">>> 'abc123'.endswith('12')"
   ]
  },
  {
   "cell_type": "code",
   "execution_count": 32,
   "id": "0c847fa2",
   "metadata": {},
   "outputs": [
    {
     "data": {
      "text/plain": [
       "True"
      ]
     },
     "execution_count": 32,
     "metadata": {},
     "output_type": "execute_result"
    }
   ],
   "source": [
    ">>> 'Hello world!'.startswith('Hello world!')"
   ]
  },
  {
   "cell_type": "code",
   "execution_count": 33,
   "id": "0b4fa77e",
   "metadata": {},
   "outputs": [
    {
     "data": {
      "text/plain": [
       "True"
      ]
     },
     "execution_count": 33,
     "metadata": {},
     "output_type": "execute_result"
    }
   ],
   "source": [
    ">>> 'Hello world!'.endswith('Hello world!')"
   ]
  },
  {
   "cell_type": "code",
   "execution_count": 34,
   "id": "4cd23abb",
   "metadata": {},
   "outputs": [
    {
     "data": {
      "text/plain": [
       "'MynameisSimon'"
      ]
     },
     "execution_count": 34,
     "metadata": {},
     "output_type": "execute_result"
    }
   ],
   "source": [
    ">>> ''.join(['My', 'name', 'is', 'Simon'])"
   ]
  },
  {
   "cell_type": "code",
   "execution_count": 35,
   "id": "51b2310d",
   "metadata": {},
   "outputs": [
    {
     "data": {
      "text/plain": [
       "'cats, rats, bats'"
      ]
     },
     "execution_count": 35,
     "metadata": {},
     "output_type": "execute_result"
    }
   ],
   "source": [
    ">>> ', '.join(['cats', 'rats', 'bats'])"
   ]
  },
  {
   "cell_type": "code",
   "execution_count": 36,
   "id": "cfdb22e6",
   "metadata": {},
   "outputs": [
    {
     "data": {
      "text/plain": [
       "'My name is Simon'"
      ]
     },
     "execution_count": 36,
     "metadata": {},
     "output_type": "execute_result"
    }
   ],
   "source": [
    ">>> ' '.join(['My', 'name', 'is', 'Simon'])"
   ]
  },
  {
   "cell_type": "code",
   "execution_count": 37,
   "id": "44259a2b",
   "metadata": {},
   "outputs": [
    {
     "data": {
      "text/plain": [
       "'MyABCnameABCisABCSimon'"
      ]
     },
     "execution_count": 37,
     "metadata": {},
     "output_type": "execute_result"
    }
   ],
   "source": [
    ">>> 'ABC'.join(['My', 'name', 'is', 'Simon'])"
   ]
  },
  {
   "cell_type": "code",
   "execution_count": 38,
   "id": "cd91830d",
   "metadata": {},
   "outputs": [
    {
     "data": {
      "text/plain": [
       "['My', 'name', 'is', 'Simon']"
      ]
     },
     "execution_count": 38,
     "metadata": {},
     "output_type": "execute_result"
    }
   ],
   "source": [
    ">>> 'My name is Simon'.split()"
   ]
  },
  {
   "cell_type": "code",
   "execution_count": 39,
   "id": "cf439cb5",
   "metadata": {},
   "outputs": [
    {
     "data": {
      "text/plain": [
       "['My', 'name', 'is', 'Simon']"
      ]
     },
     "execution_count": 39,
     "metadata": {},
     "output_type": "execute_result"
    }
   ],
   "source": [
    ">>> 'MyABCnameABCisABCSimon'.split('ABC')"
   ]
  },
  {
   "cell_type": "code",
   "execution_count": 40,
   "id": "f1cd2834",
   "metadata": {},
   "outputs": [
    {
     "data": {
      "text/plain": [
       "['My na', 'e is Si', 'on']"
      ]
     },
     "execution_count": 40,
     "metadata": {},
     "output_type": "execute_result"
    }
   ],
   "source": [
    ">>> 'My name is Simon'.split('m')"
   ]
  },
  {
   "cell_type": "code",
   "execution_count": 41,
   "id": "81375eb6",
   "metadata": {},
   "outputs": [
    {
     "data": {
      "text/plain": [
       "['My', 'name', 'is', 'Simon']"
      ]
     },
     "execution_count": 41,
     "metadata": {},
     "output_type": "execute_result"
    }
   ],
   "source": [
    ">>> ' My name is Simon'.split()"
   ]
  },
  {
   "cell_type": "code",
   "execution_count": 42,
   "id": "b2fc7a70",
   "metadata": {},
   "outputs": [
    {
     "data": {
      "text/plain": [
       "['', 'My', 'name', 'is', 'Simon']"
      ]
     },
     "execution_count": 42,
     "metadata": {},
     "output_type": "execute_result"
    }
   ],
   "source": [
    ">>> ' My name is Simon'.split(' ')"
   ]
  },
  {
   "cell_type": "code",
   "execution_count": 43,
   "id": "6e348577",
   "metadata": {},
   "outputs": [
    {
     "data": {
      "text/plain": [
       "'     Hello'"
      ]
     },
     "execution_count": 43,
     "metadata": {},
     "output_type": "execute_result"
    }
   ],
   "source": [
    ">>> 'Hello'.rjust(10)"
   ]
  },
  {
   "cell_type": "code",
   "execution_count": 44,
   "id": "4140cece",
   "metadata": {},
   "outputs": [
    {
     "data": {
      "text/plain": [
       "'               Hello'"
      ]
     },
     "execution_count": 44,
     "metadata": {},
     "output_type": "execute_result"
    }
   ],
   "source": [
    ">>> 'Hello'.rjust(20)"
   ]
  },
  {
   "cell_type": "code",
   "execution_count": 45,
   "id": "1edeacc7",
   "metadata": {},
   "outputs": [
    {
     "data": {
      "text/plain": [
       "'         Hello World'"
      ]
     },
     "execution_count": 45,
     "metadata": {},
     "output_type": "execute_result"
    }
   ],
   "source": [
    ">>> 'Hello World'.rjust(20)"
   ]
  },
  {
   "cell_type": "code",
   "execution_count": 46,
   "id": "de5ae6df",
   "metadata": {},
   "outputs": [
    {
     "data": {
      "text/plain": [
       "'Hello     '"
      ]
     },
     "execution_count": 46,
     "metadata": {},
     "output_type": "execute_result"
    }
   ],
   "source": [
    ">>> 'Hello'.ljust(10)"
   ]
  },
  {
   "cell_type": "code",
   "execution_count": 47,
   "id": "5ef1ff22",
   "metadata": {},
   "outputs": [
    {
     "data": {
      "text/plain": [
       "'Hello     '"
      ]
     },
     "execution_count": 47,
     "metadata": {},
     "output_type": "execute_result"
    }
   ],
   "source": [
    ">>> 'Hello'.ljust(10)"
   ]
  },
  {
   "cell_type": "code",
   "execution_count": 48,
   "id": "c9b6e9c2",
   "metadata": {},
   "outputs": [
    {
     "data": {
      "text/plain": [
       "'       Hello        '"
      ]
     },
     "execution_count": 48,
     "metadata": {},
     "output_type": "execute_result"
    }
   ],
   "source": [
    ">>> 'Hello'.center(20)"
   ]
  },
  {
   "cell_type": "code",
   "execution_count": 49,
   "id": "51fbf42f",
   "metadata": {},
   "outputs": [
    {
     "data": {
      "text/plain": [
       "'***************Hello'"
      ]
     },
     "execution_count": 49,
     "metadata": {},
     "output_type": "execute_result"
    }
   ],
   "source": [
    ">>> 'Hello'.rjust(20, '*')"
   ]
  },
  {
   "cell_type": "code",
   "execution_count": 50,
   "id": "46513d13",
   "metadata": {},
   "outputs": [
    {
     "data": {
      "text/plain": [
       "'Hello---------------'"
      ]
     },
     "execution_count": 50,
     "metadata": {},
     "output_type": "execute_result"
    }
   ],
   "source": [
    ">>> 'Hello'.ljust(20, '-')"
   ]
  },
  {
   "cell_type": "code",
   "execution_count": 51,
   "id": "2c1063b1",
   "metadata": {},
   "outputs": [
    {
     "data": {
      "text/plain": [
       "'=======Hello========'"
      ]
     },
     "execution_count": 51,
     "metadata": {},
     "output_type": "execute_result"
    }
   ],
   "source": [
    ">>> 'Hello'.center(20, '=')"
   ]
  },
  {
   "cell_type": "code",
   "execution_count": 52,
   "id": "19f6467d",
   "metadata": {},
   "outputs": [
    {
     "data": {
      "text/plain": [
       "'Hello World'"
      ]
     },
     "execution_count": 52,
     "metadata": {},
     "output_type": "execute_result"
    }
   ],
   "source": [
    ">>> spam = ' Hello World '\n",
    ">>> spam.strip()"
   ]
  },
  {
   "cell_type": "code",
   "execution_count": 53,
   "id": "c1612f99",
   "metadata": {},
   "outputs": [
    {
     "data": {
      "text/plain": [
       "'Hello World '"
      ]
     },
     "execution_count": 53,
     "metadata": {},
     "output_type": "execute_result"
    }
   ],
   "source": [
    ">>> spam.lstrip()"
   ]
  },
  {
   "cell_type": "code",
   "execution_count": 54,
   "id": "1293178b",
   "metadata": {},
   "outputs": [
    {
     "data": {
      "text/plain": [
       "' Hello World'"
      ]
     },
     "execution_count": 54,
     "metadata": {},
     "output_type": "execute_result"
    }
   ],
   "source": [
    ">>> spam.rstrip()"
   ]
  },
  {
   "cell_type": "code",
   "execution_count": 55,
   "id": "6ffc3d42",
   "metadata": {},
   "outputs": [
    {
     "data": {
      "text/plain": [
       "'BaconSpamEggs'"
      ]
     },
     "execution_count": 55,
     "metadata": {},
     "output_type": "execute_result"
    }
   ],
   "source": [
    ">>> spam = 'SpamSpamBaconSpamEggsSpamSpam'\n",
    ">>> spam.strip('ampS')"
   ]
  },
  {
   "cell_type": "code",
   "execution_count": 56,
   "id": "3df49397",
   "metadata": {},
   "outputs": [
    {
     "data": {
      "text/plain": [
       "3"
      ]
     },
     "execution_count": 56,
     "metadata": {},
     "output_type": "execute_result"
    }
   ],
   "source": [
    ">>> sentence = 'one sheep two sheep three sheep four'\n",
    ">>> sentence.count('sheep')"
   ]
  },
  {
   "cell_type": "code",
   "execution_count": 57,
   "id": "67fcc766",
   "metadata": {},
   "outputs": [
    {
     "data": {
      "text/plain": [
       "9"
      ]
     },
     "execution_count": 57,
     "metadata": {},
     "output_type": "execute_result"
    }
   ],
   "source": [
    ">>> sentence.count('e')"
   ]
  },
  {
   "cell_type": "code",
   "execution_count": 58,
   "id": "3a923336",
   "metadata": {},
   "outputs": [
    {
     "data": {
      "text/plain": [
       "8"
      ]
     },
     "execution_count": 58,
     "metadata": {},
     "output_type": "execute_result"
    }
   ],
   "source": [
    ">>> sentence.count('e', 6)"
   ]
  },
  {
   "cell_type": "code",
   "execution_count": 59,
   "id": "892205c3",
   "metadata": {},
   "outputs": [
    {
     "data": {
      "text/plain": [
       "7"
      ]
     },
     "execution_count": 59,
     "metadata": {},
     "output_type": "execute_result"
    }
   ],
   "source": [
    ">>> sentence.count('e', 7)"
   ]
  },
  {
   "cell_type": "code",
   "execution_count": 60,
   "id": "f5c998ce",
   "metadata": {},
   "outputs": [
    {
     "data": {
      "text/plain": [
       "'Hello, planet!'"
      ]
     },
     "execution_count": 60,
     "metadata": {},
     "output_type": "execute_result"
    }
   ],
   "source": [
    ">>> text = \"Hello, world!\"\n",
    ">>> text.replace(\"world\", \"planet\")"
   ]
  },
  {
   "cell_type": "code",
   "execution_count": 61,
   "id": "7d70f7f9",
   "metadata": {},
   "outputs": [
    {
     "data": {
      "text/plain": [
       "'orange, banana, cherry, apple'"
      ]
     },
     "execution_count": 61,
     "metadata": {},
     "output_type": "execute_result"
    }
   ],
   "source": [
    ">>> fruits = \"apple, banana, cherry, apple\"\n",
    ">>> fruits.replace(\"apple\", \"orange\", 1)"
   ]
  },
  {
   "cell_type": "code",
   "execution_count": 62,
   "id": "432111b8",
   "metadata": {},
   "outputs": [
    {
     "data": {
      "text/plain": [
       "'I like oranges, Apples are my favorite fruit'"
      ]
     },
     "execution_count": 62,
     "metadata": {},
     "output_type": "execute_result"
    }
   ],
   "source": [
    ">>> sentence = \"I like apples, Apples are my favorite fruit\"\n",
    ">>> sentence.replace(\"apples\", \"oranges\")"
   ]
  },
  {
   "cell_type": "code",
   "execution_count": 63,
   "id": "ac70ecb0",
   "metadata": {},
   "outputs": [],
   "source": [
    "import sys\n",
    "import keyword\n",
    "import operator\n",
    "from datetime import datetime\n",
    "import os"
   ]
  },
  {
   "cell_type": "code",
   "execution_count": 64,
   "id": "5dfaec48",
   "metadata": {},
   "outputs": [
    {
     "name": "stdout",
     "output_type": "stream",
     "text": [
      "['False', 'None', 'True', '__peg_parser__', 'and', 'as', 'assert', 'async', 'await', 'break', 'class', 'continue', 'def', 'del', 'elif', 'else', 'except', 'finally', 'for', 'from', 'global', 'if', 'import', 'in', 'is', 'lambda', 'nonlocal', 'not', 'or', 'pass', 'raise', 'return', 'try', 'while', 'with', 'yield']\n"
     ]
    }
   ],
   "source": [
    "print(keyword.kwlist) # List all Python Keywords"
   ]
  },
  {
   "cell_type": "code",
   "execution_count": 65,
   "id": "1ae01939",
   "metadata": {},
   "outputs": [
    {
     "data": {
      "text/plain": [
       "36"
      ]
     },
     "execution_count": 65,
     "metadata": {},
     "output_type": "execute_result"
    }
   ],
   "source": [
    "len(keyword.kwlist) # Python contains 35 keywords"
   ]
  },
  {
   "cell_type": "code",
   "execution_count": 66,
   "id": "c46317b4",
   "metadata": {},
   "outputs": [
    {
     "ename": "SyntaxError",
     "evalue": "invalid syntax (2087397812.py, line 1)",
     "output_type": "error",
     "traceback": [
      "\u001b[1;36m  Input \u001b[1;32mIn [66]\u001b[1;36m\u001b[0m\n\u001b[1;33m    1var = 10 # Identifier can't start with a digit\u001b[0m\n\u001b[1;37m     ^\u001b[0m\n\u001b[1;31mSyntaxError\u001b[0m\u001b[1;31m:\u001b[0m invalid syntax\n"
     ]
    }
   ],
   "source": [
    "1var = 10 # Identifier can't start with a digit"
   ]
  },
  {
   "cell_type": "code",
   "execution_count": 67,
   "id": "6fc99257",
   "metadata": {},
   "outputs": [
    {
     "ename": "SyntaxError",
     "evalue": "invalid syntax (619048856.py, line 1)",
     "output_type": "error",
     "traceback": [
      "\u001b[1;36m  Input \u001b[1;32mIn [67]\u001b[1;36m\u001b[0m\n\u001b[1;33m    val2@ = 35 # Identifier can't use special symbols\u001b[0m\n\u001b[1;37m          ^\u001b[0m\n\u001b[1;31mSyntaxError\u001b[0m\u001b[1;31m:\u001b[0m invalid syntax\n"
     ]
    }
   ],
   "source": [
    "val2@ = 35 # Identifier can't use special symbols"
   ]
  },
  {
   "cell_type": "code",
   "execution_count": 68,
   "id": "4f152632",
   "metadata": {},
   "outputs": [
    {
     "ename": "SyntaxError",
     "evalue": "invalid syntax (2492423719.py, line 1)",
     "output_type": "error",
     "traceback": [
      "\u001b[1;36m  Input \u001b[1;32mIn [68]\u001b[1;36m\u001b[0m\n\u001b[1;33m    import = 125 # Keywords can't be used as identifiers\u001b[0m\n\u001b[1;37m           ^\u001b[0m\n\u001b[1;31mSyntaxError\u001b[0m\u001b[1;31m:\u001b[0m invalid syntax\n"
     ]
    }
   ],
   "source": [
    "import = 125 # Keywords can't be used as identifiers"
   ]
  },
  {
   "cell_type": "code",
   "execution_count": 69,
   "id": "e5a96550",
   "metadata": {},
   "outputs": [],
   "source": [
    "\"\"\"\n",
    "Correct way of defining an identifier\n",
    "(Identifiers can be a combination of letters in lowercase (a to z) or uppercase\n",
    "\"\"\"\n",
    "val2 = 10"
   ]
  },
  {
   "cell_type": "code",
   "execution_count": 70,
   "id": "cf096834",
   "metadata": {},
   "outputs": [],
   "source": [
    "val_ = 99"
   ]
  },
  {
   "cell_type": "code",
   "execution_count": 71,
   "id": "be99fa54",
   "metadata": {},
   "outputs": [],
   "source": [
    "# Single line comment\n",
    "val1 = 10"
   ]
  },
  {
   "cell_type": "code",
   "execution_count": 72,
   "id": "1ae1b3ba",
   "metadata": {},
   "outputs": [],
   "source": [
    "# Multiple\n",
    "# line\n",
    "# comment\n",
    "val1 = 10"
   ]
  },
  {
   "cell_type": "code",
   "execution_count": 73,
   "id": "c997fc9f",
   "metadata": {},
   "outputs": [],
   "source": [
    "'''\n",
    "Multiple\n",
    "line\n",
    "comment\n",
    "'''\n",
    "val1 = 10"
   ]
  },
  {
   "cell_type": "code",
   "execution_count": 74,
   "id": "33b5e9d4",
   "metadata": {},
   "outputs": [],
   "source": [
    "\"\"\"\n",
    "Multiple\n",
    "line\n",
    "comment\n",
    "\"\"\"\n",
    "val1 = 10"
   ]
  },
  {
   "cell_type": "code",
   "execution_count": 75,
   "id": "cbda66c3",
   "metadata": {},
   "outputs": [
    {
     "data": {
      "text/plain": [
       "(20, int, '0x19027f46b90')"
      ]
     },
     "execution_count": 75,
     "metadata": {},
     "output_type": "execute_result"
    }
   ],
   "source": [
    "p = 20 #Creates an integer object with value 20 and assigns the variable p to p\n",
    "q = 20 # Create new reference q which will point to value 20. p & q will be poi\n",
    "r = q # variable r will also point to the same location where p & q are pointin\n",
    "p , type(p), hex(id(p)) # Variable P is pointing to memory location '0x7fff6d71a"
   ]
  },
  {
   "cell_type": "code",
   "execution_count": 76,
   "id": "f35dd02f",
   "metadata": {},
   "outputs": [
    {
     "data": {
      "text/plain": [
       "(20, int, '0x19027f46b90')"
      ]
     },
     "execution_count": 76,
     "metadata": {},
     "output_type": "execute_result"
    }
   ],
   "source": [
    "q , type(q), hex(id(q))"
   ]
  },
  {
   "cell_type": "code",
   "execution_count": 77,
   "id": "7986b218",
   "metadata": {},
   "outputs": [
    {
     "data": {
      "text/plain": [
       "(20, int, '0x19027f46b90')"
      ]
     },
     "execution_count": 77,
     "metadata": {},
     "output_type": "execute_result"
    }
   ],
   "source": [
    "r , type(r), hex(id(r))"
   ]
  },
  {
   "cell_type": "code",
   "execution_count": 78,
   "id": "da610652",
   "metadata": {},
   "outputs": [
    {
     "data": {
      "text/plain": [
       "30"
      ]
     },
     "execution_count": 78,
     "metadata": {},
     "output_type": "execute_result"
    }
   ],
   "source": [
    "p = 20\n",
    "p = p + 10 # Variable Overwriting\n",
    "p"
   ]
  },
  {
   "cell_type": "code",
   "execution_count": 79,
   "id": "b405a79a",
   "metadata": {},
   "outputs": [
    {
     "name": "stdout",
     "output_type": "stream",
     "text": [
      "10\n",
      "2.57\n",
      "Python Language\n"
     ]
    }
   ],
   "source": [
    "intvar = 10 # Integer variable\n",
    "floatvar = 2.57 # Float Variable\n",
    "strvar = \"Python Language\" # String variable\n",
    "print(intvar)\n",
    "print(floatvar)\n",
    "print(strvar)"
   ]
  },
  {
   "cell_type": "code",
   "execution_count": 80,
   "id": "b829e170",
   "metadata": {},
   "outputs": [
    {
     "name": "stdout",
     "output_type": "stream",
     "text": [
      "10\n",
      "2.57\n",
      "Python Language\n"
     ]
    }
   ],
   "source": [
    "intvar , floatvar , strvar = 10,2.57,\"Python Language\" # Using commas to separat\n",
    "print(intvar)\n",
    "print(floatvar)\n",
    "print(strvar)"
   ]
  },
  {
   "cell_type": "code",
   "execution_count": 81,
   "id": "02780f30",
   "metadata": {},
   "outputs": [
    {
     "name": "stdout",
     "output_type": "stream",
     "text": [
      "44 44 44 44\n"
     ]
    }
   ],
   "source": [
    "p1 = p2 = p3 = p4 = 44 # All variables pointing to same value\n",
    "print(p1,p2,p3,p4)"
   ]
  },
  {
   "cell_type": "code",
   "execution_count": 82,
   "id": "59ed5bf2",
   "metadata": {},
   "outputs": [
    {
     "name": "stdout",
     "output_type": "stream",
     "text": [
      "10\n",
      "<class 'int'>\n",
      "28\n",
      "10  is Integer? True\n"
     ]
    }
   ],
   "source": [
    "val1 = 10 # Integer data type\n",
    "print(val1)\n",
    "print(type(val1)) # type of object\n",
    "print(sys.getsizeof(val1)) # size of integer object in bytes\n",
    "print(val1, \" is Integer?\", isinstance(val1, int)) # val1 is an instance of int"
   ]
  },
  {
   "cell_type": "code",
   "execution_count": 83,
   "id": "7442d17e",
   "metadata": {},
   "outputs": [
    {
     "name": "stdout",
     "output_type": "stream",
     "text": [
      "92.78\n",
      "<class 'float'>\n",
      "24\n",
      "92.78  is float? True\n"
     ]
    }
   ],
   "source": [
    "val2 = 92.78 # Float data type\n",
    "print(val2)\n",
    "print(type(val2)) # type of object\n",
    "print(sys.getsizeof(val2)) # size of float object in bytes\n",
    "print(val2, \" is float?\", isinstance(val2, float)) # Val2 is an instance of float"
   ]
  },
  {
   "cell_type": "code",
   "execution_count": 84,
   "id": "a9f91770",
   "metadata": {},
   "outputs": [
    {
     "name": "stdout",
     "output_type": "stream",
     "text": [
      "(25+10j)\n",
      "<class 'complex'>\n",
      "32\n",
      "(25+10j)  is complex? True\n"
     ]
    }
   ],
   "source": [
    "val3 = 25 + 10j # Complex data type\n",
    "print(val3)\n",
    "print(type(val3)) # type of object\n",
    "print(sys.getsizeof(val3)) # size of float object in bytes\n",
    "print(val3, \" is complex?\", isinstance(val3, complex)) # val3 is an instance of complex"
   ]
  },
  {
   "cell_type": "code",
   "execution_count": 85,
   "id": "71b2a9d7",
   "metadata": {},
   "outputs": [
    {
     "data": {
      "text/plain": [
       "24"
      ]
     },
     "execution_count": 85,
     "metadata": {},
     "output_type": "execute_result"
    }
   ],
   "source": [
    "sys.getsizeof(int()) # size of integer object in bytes"
   ]
  },
  {
   "cell_type": "code",
   "execution_count": 86,
   "id": "fe881561",
   "metadata": {},
   "outputs": [
    {
     "data": {
      "text/plain": [
       "24"
      ]
     },
     "execution_count": 86,
     "metadata": {},
     "output_type": "execute_result"
    }
   ],
   "source": [
    "sys.getsizeof(float()) # size of float object in bytes"
   ]
  },
  {
   "cell_type": "code",
   "execution_count": 87,
   "id": "bf876366",
   "metadata": {},
   "outputs": [
    {
     "data": {
      "text/plain": [
       "32"
      ]
     },
     "execution_count": 87,
     "metadata": {},
     "output_type": "execute_result"
    }
   ],
   "source": [
    "sys.getsizeof(complex()) # size of complex object in bytes"
   ]
  },
  {
   "cell_type": "code",
   "execution_count": 89,
   "id": "a8eea114",
   "metadata": {},
   "outputs": [],
   "source": [
    "bool1 = True"
   ]
  },
  {
   "cell_type": "code",
   "execution_count": 88,
   "id": "76a8f9d8",
   "metadata": {},
   "outputs": [],
   "source": [
    "bool2 = False"
   ]
  },
  {
   "cell_type": "code",
   "execution_count": 90,
   "id": "74f7413e",
   "metadata": {},
   "outputs": [
    {
     "name": "stdout",
     "output_type": "stream",
     "text": [
      "<class 'bool'>\n"
     ]
    }
   ],
   "source": [
    "print(type(bool1))"
   ]
  },
  {
   "cell_type": "code",
   "execution_count": 91,
   "id": "0541970c",
   "metadata": {},
   "outputs": [
    {
     "name": "stdout",
     "output_type": "stream",
     "text": [
      "<class 'bool'>\n"
     ]
    }
   ],
   "source": [
    "print(type(bool2))"
   ]
  },
  {
   "cell_type": "code",
   "execution_count": 92,
   "id": "ad5765e9",
   "metadata": {},
   "outputs": [
    {
     "data": {
      "text/plain": [
       "True"
      ]
     },
     "execution_count": 92,
     "metadata": {},
     "output_type": "execute_result"
    }
   ],
   "source": [
    "isinstance(bool1, bool)"
   ]
  },
  {
   "cell_type": "code",
   "execution_count": 93,
   "id": "c1b92674",
   "metadata": {},
   "outputs": [
    {
     "data": {
      "text/plain": [
       "False"
      ]
     },
     "execution_count": 93,
     "metadata": {},
     "output_type": "execute_result"
    }
   ],
   "source": [
    "bool(0)"
   ]
  },
  {
   "cell_type": "code",
   "execution_count": 94,
   "id": "6b19d3d7",
   "metadata": {},
   "outputs": [
    {
     "data": {
      "text/plain": [
       "True"
      ]
     },
     "execution_count": 94,
     "metadata": {},
     "output_type": "execute_result"
    }
   ],
   "source": [
    "bool(1)"
   ]
  },
  {
   "cell_type": "code",
   "execution_count": 95,
   "id": "4b191a98",
   "metadata": {},
   "outputs": [
    {
     "data": {
      "text/plain": [
       "False"
      ]
     },
     "execution_count": 95,
     "metadata": {},
     "output_type": "execute_result"
    }
   ],
   "source": [
    "bool(None)"
   ]
  },
  {
   "cell_type": "code",
   "execution_count": 96,
   "id": "b14bd88a",
   "metadata": {},
   "outputs": [
    {
     "data": {
      "text/plain": [
       "False"
      ]
     },
     "execution_count": 96,
     "metadata": {},
     "output_type": "execute_result"
    }
   ],
   "source": [
    "bool (False)"
   ]
  },
  {
   "cell_type": "code",
   "execution_count": 97,
   "id": "4a9ce2ef",
   "metadata": {},
   "outputs": [
    {
     "name": "stdout",
     "output_type": "stream",
     "text": [
      "HELLO PYTHON\n"
     ]
    }
   ],
   "source": [
    "str1 = \"HELLO PYTHON\"\n",
    "print(str1)"
   ]
  },
  {
   "cell_type": "code",
   "execution_count": 98,
   "id": "77fa5849",
   "metadata": {},
   "outputs": [
    {
     "name": "stdout",
     "output_type": "stream",
     "text": [
      "Hello World\n"
     ]
    }
   ],
   "source": [
    "mystr = 'Hello World' # Define string using single quotes\n",
    "print(mystr)"
   ]
  },
  {
   "cell_type": "code",
   "execution_count": 99,
   "id": "3787940f",
   "metadata": {},
   "outputs": [
    {
     "name": "stdout",
     "output_type": "stream",
     "text": [
      "Hello World\n"
     ]
    }
   ],
   "source": [
    "mystr = \"Hello World\" # Define string using double quotes\n",
    "print(mystr)"
   ]
  },
  {
   "cell_type": "code",
   "execution_count": 100,
   "id": "59471e20",
   "metadata": {},
   "outputs": [
    {
     "name": "stdout",
     "output_type": "stream",
     "text": [
      "Hello\n",
      "World \n"
     ]
    }
   ],
   "source": [
    "mystr = '''Hello\n",
    "World ''' # Define string using triple quotes\n",
    "print(mystr)"
   ]
  },
  {
   "cell_type": "code",
   "execution_count": 101,
   "id": "298737e4",
   "metadata": {},
   "outputs": [
    {
     "name": "stdout",
     "output_type": "stream",
     "text": [
      "Hello\n",
      "World\n"
     ]
    }
   ],
   "source": [
    "mystr = \"\"\"Hello\n",
    "World\"\"\" # Define string using triple quotes\n",
    "print(mystr)"
   ]
  },
  {
   "cell_type": "code",
   "execution_count": 102,
   "id": "41802bce",
   "metadata": {},
   "outputs": [
    {
     "name": "stdout",
     "output_type": "stream",
     "text": [
      "Happy Monday Everyone\n"
     ]
    }
   ],
   "source": [
    "mystr = ('Happy '\n",
    "'Monday '\n",
    "'Everyone')\n",
    "print(mystr)"
   ]
  },
  {
   "cell_type": "code",
   "execution_count": 103,
   "id": "ded7bebf",
   "metadata": {},
   "outputs": [
    {
     "data": {
      "text/plain": [
       "'Woohoo Woohoo Woohoo Woohoo Woohoo '"
      ]
     },
     "execution_count": 103,
     "metadata": {},
     "output_type": "execute_result"
    }
   ],
   "source": [
    "mystr2 = 'Woohoo '\n",
    "mystr2 = mystr2*5\n",
    "mystr2"
   ]
  },
  {
   "cell_type": "code",
   "execution_count": 104,
   "id": "e048757f",
   "metadata": {},
   "outputs": [
    {
     "data": {
      "text/plain": [
       "35"
      ]
     },
     "execution_count": 104,
     "metadata": {},
     "output_type": "execute_result"
    }
   ],
   "source": [
    "len(mystr2) # Length of string"
   ]
  },
  {
   "cell_type": "code",
   "execution_count": 105,
   "id": "f84430f7",
   "metadata": {},
   "outputs": [
    {
     "data": {
      "text/plain": [
       "'HELLO PYTHON'"
      ]
     },
     "execution_count": 105,
     "metadata": {},
     "output_type": "execute_result"
    }
   ],
   "source": [
    "str1"
   ]
  },
  {
   "cell_type": "code",
   "execution_count": 106,
   "id": "7177735b",
   "metadata": {},
   "outputs": [
    {
     "data": {
      "text/plain": [
       "'H'"
      ]
     },
     "execution_count": 106,
     "metadata": {},
     "output_type": "execute_result"
    }
   ],
   "source": [
    "str1[0] # First character in string \"str1\""
   ]
  },
  {
   "cell_type": "code",
   "execution_count": 107,
   "id": "7736bd1b",
   "metadata": {},
   "outputs": [
    {
     "data": {
      "text/plain": [
       "'N'"
      ]
     },
     "execution_count": 107,
     "metadata": {},
     "output_type": "execute_result"
    }
   ],
   "source": [
    "str1[len(str1)-1] # Last character in string using len function"
   ]
  },
  {
   "cell_type": "code",
   "execution_count": 108,
   "id": "2aad378e",
   "metadata": {},
   "outputs": [
    {
     "data": {
      "text/plain": [
       "'N'"
      ]
     },
     "execution_count": 108,
     "metadata": {},
     "output_type": "execute_result"
    }
   ],
   "source": [
    "str1[-1] # Last character in string"
   ]
  },
  {
   "cell_type": "code",
   "execution_count": 109,
   "id": "9923a9b9",
   "metadata": {},
   "outputs": [
    {
     "data": {
      "text/plain": [
       "'P'"
      ]
     },
     "execution_count": 109,
     "metadata": {},
     "output_type": "execute_result"
    }
   ],
   "source": [
    "str1[6] #Fetch 7th element of the string"
   ]
  },
  {
   "cell_type": "code",
   "execution_count": 110,
   "id": "8f8b1702",
   "metadata": {},
   "outputs": [
    {
     "data": {
      "text/plain": [
       "' '"
      ]
     },
     "execution_count": 110,
     "metadata": {},
     "output_type": "execute_result"
    }
   ],
   "source": [
    "str1[5]"
   ]
  },
  {
   "cell_type": "code",
   "execution_count": 111,
   "id": "32bd44be",
   "metadata": {},
   "outputs": [
    {
     "data": {
      "text/plain": [
       "'HELLO'"
      ]
     },
     "execution_count": 111,
     "metadata": {},
     "output_type": "execute_result"
    }
   ],
   "source": [
    "str1[0:5] # String slicing - Fetch all characters from 0 to 5 index location exc"
   ]
  },
  {
   "cell_type": "code",
   "execution_count": 112,
   "id": "86939873",
   "metadata": {},
   "outputs": [
    {
     "data": {
      "text/plain": [
       "'PYTHON'"
      ]
     },
     "execution_count": 112,
     "metadata": {},
     "output_type": "execute_result"
    }
   ],
   "source": [
    "str1[6:12] # String slicing - Retreive all characters between 6 - 12 index loc"
   ]
  },
  {
   "cell_type": "code",
   "execution_count": 113,
   "id": "2b0c9480",
   "metadata": {},
   "outputs": [
    {
     "data": {
      "text/plain": [
       "'THON'"
      ]
     },
     "execution_count": 113,
     "metadata": {},
     "output_type": "execute_result"
    }
   ],
   "source": [
    "str1[-4:] # Retreive last four characters of the string"
   ]
  },
  {
   "cell_type": "code",
   "execution_count": 114,
   "id": "5980c9ff",
   "metadata": {},
   "outputs": [
    {
     "data": {
      "text/plain": [
       "'PYTHON'"
      ]
     },
     "execution_count": 114,
     "metadata": {},
     "output_type": "execute_result"
    }
   ],
   "source": [
    "str1[-6:] # Retreive last six characters of the string"
   ]
  },
  {
   "cell_type": "code",
   "execution_count": 115,
   "id": "42e82957",
   "metadata": {},
   "outputs": [
    {
     "data": {
      "text/plain": [
       "'HELL'"
      ]
     },
     "execution_count": 115,
     "metadata": {},
     "output_type": "execute_result"
    }
   ],
   "source": [
    "str1[:4] # Retreive first four characters of the string"
   ]
  },
  {
   "cell_type": "code",
   "execution_count": 116,
   "id": "cf234098",
   "metadata": {},
   "outputs": [
    {
     "data": {
      "text/plain": [
       "'HELLO '"
      ]
     },
     "execution_count": 116,
     "metadata": {},
     "output_type": "execute_result"
    }
   ],
   "source": [
    "str1[:6] # Retreive first six characters of the string"
   ]
  },
  {
   "cell_type": "code",
   "execution_count": 117,
   "id": "bbbe3e5f",
   "metadata": {},
   "outputs": [
    {
     "data": {
      "text/plain": [
       "'HELLO PYTHON'"
      ]
     },
     "execution_count": 117,
     "metadata": {},
     "output_type": "execute_result"
    }
   ],
   "source": [
    "str1"
   ]
  },
  {
   "cell_type": "code",
   "execution_count": 118,
   "id": "25baabe1",
   "metadata": {},
   "outputs": [
    {
     "name": "stdout",
     "output_type": "stream",
     "text": [
      "HelloAsif\n"
     ]
    }
   ],
   "source": [
    "# String concatenation\n",
    "s1 = \"Hello\"\n",
    "s2 = \"Asif\"\n",
    "s3 = s1 + s2\n",
    "print(s3)"
   ]
  },
  {
   "cell_type": "code",
   "execution_count": 119,
   "id": "3f125367",
   "metadata": {},
   "outputs": [
    {
     "data": {
      "text/plain": [
       "20"
      ]
     },
     "execution_count": 119,
     "metadata": {},
     "output_type": "execute_result"
    }
   ],
   "source": [
    "a=10\n",
    "b=20\n",
    "a\n",
    "b"
   ]
  },
  {
   "cell_type": "code",
   "execution_count": 120,
   "id": "60e72e84",
   "metadata": {},
   "outputs": [
    {
     "name": "stdout",
     "output_type": "stream",
     "text": [
      "10\n",
      "20\n"
     ]
    }
   ],
   "source": [
    "a=10\n",
    "b=20\n",
    "print(a)\n",
    "print(b)"
   ]
  },
  {
   "cell_type": "code",
   "execution_count": 121,
   "id": "5be4dda5",
   "metadata": {},
   "outputs": [
    {
     "name": "stdout",
     "output_type": "stream",
     "text": [
      "10\n",
      "10 20\n",
      "python\n",
      "10 20 python\n"
     ]
    }
   ],
   "source": [
    "print(10)\n",
    "print(10,20)\n",
    "print('python')\n",
    "print(10,20,'python')"
   ]
  },
  {
   "cell_type": "code",
   "execution_count": 122,
   "id": "7100d541",
   "metadata": {},
   "outputs": [
    {
     "name": "stdout",
     "output_type": "stream",
     "text": [
      "50\n"
     ]
    }
   ],
   "source": [
    "num1=20\n",
    "num2=30\n",
    "add=num1+num2\n",
    "print(add)"
   ]
  },
  {
   "cell_type": "code",
   "execution_count": 123,
   "id": "cb6e0b5c",
   "metadata": {},
   "outputs": [
    {
     "name": "stdout",
     "output_type": "stream",
     "text": [
      "The addition of 20 and 30 is= 50\n"
     ]
    }
   ],
   "source": [
    "num1=20\n",
    "num2=30\n",
    "add=num1+num2\n",
    "print('The addition of',num1,'and',num2,'is=',add)"
   ]
  },
  {
   "cell_type": "code",
   "execution_count": 124,
   "id": "b2685471",
   "metadata": {},
   "outputs": [],
   "source": [
    "name='Python'\n",
    "age=20\n",
    "city='hyd'\n",
    "#hellow my name is python and i am 10 year old from hydrabad"
   ]
  },
  {
   "cell_type": "code",
   "execution_count": 125,
   "id": "e1161584",
   "metadata": {},
   "outputs": [
    {
     "name": "stdout",
     "output_type": "stream",
     "text": [
      "My name is Python and i am 20 years old form hyd\n"
     ]
    }
   ],
   "source": [
    "print('My name is',name,'and i am',age,'years old form',city)"
   ]
  },
  {
   "cell_type": "code",
   "execution_count": 126,
   "id": "d9395808",
   "metadata": {},
   "outputs": [
    {
     "name": "stdout",
     "output_type": "stream",
     "text": [
      "The addition of 20 and 30 is= 50\n"
     ]
    }
   ],
   "source": [
    "num1=20\n",
    "num2=30\n",
    "add=num1+num2\n",
    "print('The addition of {} and {} is= {}'.format(num1,num2,add))"
   ]
  },
  {
   "cell_type": "code",
   "execution_count": 127,
   "id": "672cbbf9",
   "metadata": {},
   "outputs": [],
   "source": [
    "name='Python'\n",
    "age=20\n",
    "city='hyd'\n",
    "#hellow my name is python and i am 10 year old from hydrabad"
   ]
  },
  {
   "cell_type": "code",
   "execution_count": 128,
   "id": "a2885f06",
   "metadata": {},
   "outputs": [
    {
     "ename": "SyntaxError",
     "evalue": "EOL while scanning string literal (2569351368.py, line 1)",
     "output_type": "error",
     "traceback": [
      "\u001b[1;36m  Input \u001b[1;32mIn [128]\u001b[1;36m\u001b[0m\n\u001b[1;33m    print('hello my name is {}, and i am {} years old from {}\u001b[0m\n\u001b[1;37m                                                             ^\u001b[0m\n\u001b[1;31mSyntaxError\u001b[0m\u001b[1;31m:\u001b[0m EOL while scanning string literal\n"
     ]
    }
   ],
   "source": [
    "print('hello my name is {}, and i am {} years old from {}\n",
    "'.format(name,age,city))"
   ]
  },
  {
   "cell_type": "code",
   "execution_count": 129,
   "id": "8e566bed",
   "metadata": {},
   "outputs": [
    {
     "name": "stdout",
     "output_type": "stream",
     "text": [
      "The avrage of 100, 25, and 333 is= 152.66666666666666 or 152.67\n"
     ]
    }
   ],
   "source": [
    "num1=100\n",
    "num2=25\n",
    "num3=333\n",
    "avg=(num1+num2+num3)/3 # or we can use avg=round(num1+num2+num3)/3,2)\n",
    "avg1=round((num1+num2+num3)/3,2)\n",
    "# The avrage of num1,num2,num3 is = avg\n",
    "print('The avrage of {}, {}, and {} is= {} or {}'.format(num1,num2,num3,\n",
    "avg,avg1)) # here we can use round(avg,2) also"
   ]
  },
  {
   "cell_type": "code",
   "execution_count": 130,
   "id": "e17ffaf2",
   "metadata": {},
   "outputs": [
    {
     "data": {
      "text/plain": [
       "152.67"
      ]
     },
     "execution_count": 130,
     "metadata": {},
     "output_type": "execute_result"
    }
   ],
   "source": [
    "round(avg,2) # round of till 2 digite after decimal"
   ]
  },
  {
   "cell_type": "code",
   "execution_count": 131,
   "id": "08b1f31d",
   "metadata": {},
   "outputs": [
    {
     "name": "stdout",
     "output_type": "stream",
     "text": [
      "The addition of 20 and 30 is= 50\n"
     ]
    }
   ],
   "source": [
    "num1=20\n",
    "num2=30\n",
    "add=num1+num2\n",
    "print(f'The addition of {num1} and {num2} is= {add}') # alwase prefer this"
   ]
  },
  {
   "cell_type": "code",
   "execution_count": 132,
   "id": "11524e61",
   "metadata": {},
   "outputs": [],
   "source": [
    "name='Python'\n",
    "age=20\n",
    "city='hyd'\n",
    "#hellow my name is python and i am 10 year old from hydrabad"
   ]
  },
  {
   "cell_type": "code",
   "execution_count": 133,
   "id": "36e0ee0f",
   "metadata": {},
   "outputs": [
    {
     "name": "stdout",
     "output_type": "stream",
     "text": [
      "hello my name is Python, and i am 20 year old, from hyd.\n"
     ]
    }
   ],
   "source": [
    "print(f'hello my name is {name}, and i am {age} year old, from {city}.')"
   ]
  },
  {
   "cell_type": "code",
   "execution_count": 134,
   "id": "2c6b3e39",
   "metadata": {},
   "outputs": [],
   "source": [
    "num1=100\n",
    "num2=25\n",
    "num3=333\n",
    "avg=round((num1+num2+num3)/3,2) # or we can use avg=round(num1+num2+num3)/3,2)\n",
    "# The avrage of num1,num2,num3 is = avg"
   ]
  },
  {
   "cell_type": "code",
   "execution_count": 135,
   "id": "c2c7a169",
   "metadata": {},
   "outputs": [
    {
     "name": "stdout",
     "output_type": "stream",
     "text": [
      "The avrage of 100, 25 and 333 is = 152.67\n"
     ]
    }
   ],
   "source": [
    "print(f'The avrage of {num1}, {num2} and {num3} is = {avg}')"
   ]
  },
  {
   "cell_type": "code",
   "execution_count": 136,
   "id": "59b337a3",
   "metadata": {},
   "outputs": [
    {
     "name": "stdout",
     "output_type": "stream",
     "text": [
      "The addition of 10 and 20 is= 30\n",
      "The addition of 10 and 20 is= 30\n",
      "The addition of 10 and 20 is= 30\n"
     ]
    }
   ],
   "source": [
    "# lete combine all\n",
    "num1=10\n",
    "num2=20\n",
    "add = num1+ num2\n",
    "print('The addition of',num1,'and',num2,'is=',add)\n",
    "print('The addition of {} and {} is= {}'.format(num1,num2,add))\n",
    "print(f'The addition of {num1} and {num2} is= {add}')"
   ]
  },
  {
   "cell_type": "code",
   "execution_count": 137,
   "id": "a935ec6d",
   "metadata": {},
   "outputs": [
    {
     "name": "stdout",
     "output_type": "stream",
     "text": [
      "hello\n",
      "good moorning\n"
     ]
    }
   ],
   "source": [
    "print('hello') # 1st statement\n",
    "print('good moorning') # 2nd statement)\n",
    "# i want print like:- hellow good morning"
   ]
  },
  {
   "cell_type": "code",
   "execution_count": 138,
   "id": "1273319e",
   "metadata": {},
   "outputs": [
    {
     "name": "stdout",
     "output_type": "stream",
     "text": [
      "hello world good day\n"
     ]
    }
   ],
   "source": [
    "print('hello', end=' ') # 1st statement\n",
    "print('world good day') # 2nd statement"
   ]
  },
  {
   "cell_type": "code",
   "execution_count": 139,
   "id": "e500d4c8",
   "metadata": {},
   "outputs": [
    {
     "name": "stdout",
     "output_type": "stream",
     "text": [
      "hello--->hai--->how are you\n"
     ]
    }
   ],
   "source": [
    "print('hello','hai','how are you',sep='--->')"
   ]
  },
  {
   "cell_type": "code",
   "execution_count": 140,
   "id": "6772ae2f",
   "metadata": {},
   "outputs": [
    {
     "name": "stdout",
     "output_type": "stream",
     "text": [
      "hello&hai&how are you\n"
     ]
    }
   ],
   "source": [
    "print('hello','hai','how are you',sep='&')"
   ]
  },
  {
   "cell_type": "code",
   "execution_count": 141,
   "id": "75281adb",
   "metadata": {},
   "outputs": [
    {
     "name": "stdout",
     "output_type": "stream",
     "text": [
      "hello@hai@how are you\n"
     ]
    }
   ],
   "source": [
    "print('hello','hai','how are you',sep='@')"
   ]
  },
  {
   "cell_type": "code",
   "execution_count": 142,
   "id": "2a20fc5a",
   "metadata": {},
   "outputs": [
    {
     "name": "stdout",
     "output_type": "stream",
     "text": [
      "hello hai how are you\n"
     ]
    }
   ],
   "source": [
    "print('hello','hai','how are you',sep=' ')"
   ]
  },
  {
   "cell_type": "code",
   "execution_count": 143,
   "id": "79b14c86",
   "metadata": {},
   "outputs": [
    {
     "name": "stdout",
     "output_type": "stream",
     "text": [
      "3 .\n"
     ]
    }
   ],
   "source": [
    "print(3,'.') # . is far from 3 so here we will use sep method"
   ]
  },
  {
   "cell_type": "code",
   "execution_count": 144,
   "id": "539bc908",
   "metadata": {},
   "outputs": [
    {
     "name": "stdout",
     "output_type": "stream",
     "text": [
      "3.\n"
     ]
    }
   ],
   "source": [
    "print(3,'.',sep='') # see now space setteld(also use to remove space B/W words)"
   ]
  },
  {
   "cell_type": "code",
   "execution_count": 145,
   "id": "3e950c9b",
   "metadata": {},
   "outputs": [
    {
     "name": "stdout",
     "output_type": "stream",
     "text": [
      "1 2 3.\n"
     ]
    }
   ],
   "source": [
    "print(1,2,end=' ')\n",
    "print(3,'.',sep='')\n",
    "# will print 1 2 3."
   ]
  },
  {
   "cell_type": "code",
   "execution_count": 1,
   "id": "c5da709f",
   "metadata": {},
   "outputs": [
    {
     "data": {
      "text/plain": [
       "'abc def ghi '"
      ]
     },
     "execution_count": 1,
     "metadata": {},
     "output_type": "execute_result"
    }
   ],
   "source": [
    "txt = \" abc def ghi \"\n",
    "txt.lstrip()"
   ]
  },
  {
   "cell_type": "code",
   "execution_count": 2,
   "id": "fc733251",
   "metadata": {},
   "outputs": [
    {
     "data": {
      "text/plain": [
       "'abc def ghi'"
      ]
     },
     "execution_count": 2,
     "metadata": {},
     "output_type": "execute_result"
    }
   ],
   "source": [
    "txt = \" abc def ghi \"\n",
    "txt.strip()"
   ]
  },
  {
   "cell_type": "code",
   "execution_count": 3,
   "id": "13593769",
   "metadata": {},
   "outputs": [
    {
     "ename": "SyntaxError",
     "evalue": "invalid syntax (739327747.py, line 2)",
     "output_type": "error",
     "traceback": [
      "\u001b[1;36m  Input \u001b[1;32mIn [3]\u001b[1;36m\u001b[0m\n\u001b[1;33m    mystr = \"My favourite TV Series is \"Game of Thrones\"\"\u001b[0m\n\u001b[1;37m                                        ^\u001b[0m\n\u001b[1;31mSyntaxError\u001b[0m\u001b[1;31m:\u001b[0m invalid syntax\n"
     ]
    }
   ],
   "source": [
    "#Using double quotes in the string is not allowed.\n",
    "mystr = \"My favourite TV Series is \"Game of Thrones\"\""
   ]
  },
  {
   "cell_type": "code",
   "execution_count": 4,
   "id": "f8e24d60",
   "metadata": {},
   "outputs": [
    {
     "name": "stdout",
     "output_type": "stream",
     "text": [
      "My favourite series is \"Game of Thrones\"\n"
     ]
    }
   ],
   "source": [
    "#Using escape character to allow illegal characters\n",
    "mystr = \"My favourite series is \\\"Game of Thrones\\\"\"\n",
    "print(mystr)"
   ]
  },
  {
   "cell_type": "code",
   "execution_count": 5,
   "id": "657510a9",
   "metadata": {},
   "outputs": [],
   "source": [
    "list1 = []"
   ]
  },
  {
   "cell_type": "code",
   "execution_count": 6,
   "id": "42d02bc1",
   "metadata": {},
   "outputs": [
    {
     "name": "stdout",
     "output_type": "stream",
     "text": [
      "<class 'list'>\n"
     ]
    }
   ],
   "source": [
    "print(type(list1))"
   ]
  },
  {
   "cell_type": "code",
   "execution_count": 7,
   "id": "e1c3ce1f",
   "metadata": {},
   "outputs": [],
   "source": [
    "list2 = [10,30,60] # List of integers numbers"
   ]
  },
  {
   "cell_type": "code",
   "execution_count": 8,
   "id": "f3c6b505",
   "metadata": {},
   "outputs": [],
   "source": [
    "list3 = [10.77,30.66,60.89] # List of float numbers"
   ]
  },
  {
   "cell_type": "code",
   "execution_count": 9,
   "id": "5b701265",
   "metadata": {},
   "outputs": [],
   "source": [
    "list4 = ['one','two' , \"three\"] # List of strings"
   ]
  },
  {
   "cell_type": "code",
   "execution_count": 10,
   "id": "2bac06d2",
   "metadata": {},
   "outputs": [],
   "source": [
    "list5 = ['Asif', 25 ,[50, 100],[150, 90]] # Nested Lists"
   ]
  },
  {
   "cell_type": "code",
   "execution_count": 11,
   "id": "a3f40b9a",
   "metadata": {},
   "outputs": [],
   "source": [
    "list6 = [100, 'Asif', 17.765] # List of mixed data types"
   ]
  },
  {
   "cell_type": "code",
   "execution_count": 12,
   "id": "7a991691",
   "metadata": {},
   "outputs": [],
   "source": [
    "list7 = ['Asif', 25 ,[50, 100],[150, 90] , {'John' , 'David'}]"
   ]
  },
  {
   "cell_type": "code",
   "execution_count": 13,
   "id": "5409aa82",
   "metadata": {},
   "outputs": [
    {
     "data": {
      "text/plain": [
       "3"
      ]
     },
     "execution_count": 13,
     "metadata": {},
     "output_type": "execute_result"
    }
   ],
   "source": [
    "len(list6) #Length of list"
   ]
  },
  {
   "cell_type": "code",
   "execution_count": 14,
   "id": "c855af7f",
   "metadata": {},
   "outputs": [
    {
     "data": {
      "text/plain": [
       "10"
      ]
     },
     "execution_count": 14,
     "metadata": {},
     "output_type": "execute_result"
    }
   ],
   "source": [
    "list2[0] # Retreive first element of the list"
   ]
  },
  {
   "cell_type": "code",
   "execution_count": 15,
   "id": "76e3c745",
   "metadata": {},
   "outputs": [
    {
     "data": {
      "text/plain": [
       "'one'"
      ]
     },
     "execution_count": 15,
     "metadata": {},
     "output_type": "execute_result"
    }
   ],
   "source": [
    "list4[0] # Retreive first element of the list"
   ]
  },
  {
   "cell_type": "code",
   "execution_count": 16,
   "id": "3ff5338d",
   "metadata": {},
   "outputs": [
    {
     "data": {
      "text/plain": [
       "'o'"
      ]
     },
     "execution_count": 16,
     "metadata": {},
     "output_type": "execute_result"
    }
   ],
   "source": [
    "list4[0][0]"
   ]
  },
  {
   "cell_type": "code",
   "execution_count": 17,
   "id": "e7445dd3",
   "metadata": {},
   "outputs": [
    {
     "data": {
      "text/plain": [
       "'three'"
      ]
     },
     "execution_count": 17,
     "metadata": {},
     "output_type": "execute_result"
    }
   ],
   "source": [
    "list4[-1] # Last item of the list"
   ]
  },
  {
   "cell_type": "code",
   "execution_count": 18,
   "id": "e980725e",
   "metadata": {},
   "outputs": [
    {
     "data": {
      "text/plain": [
       "[150, 90]"
      ]
     },
     "execution_count": 18,
     "metadata": {},
     "output_type": "execute_result"
    }
   ],
   "source": [
    "list5[-1] # Last item of the list"
   ]
  },
  {
   "cell_type": "code",
   "execution_count": null,
   "id": "283fd071",
   "metadata": {},
   "outputs": [],
   "source": []
  },
  {
   "cell_type": "code",
   "execution_count": null,
   "id": "27246903",
   "metadata": {},
   "outputs": [],
   "source": []
  },
  {
   "cell_type": "code",
   "execution_count": null,
   "id": "cc066d97",
   "metadata": {},
   "outputs": [],
   "source": []
  },
  {
   "cell_type": "code",
   "execution_count": null,
   "id": "98eceaac",
   "metadata": {},
   "outputs": [],
   "source": []
  },
  {
   "cell_type": "code",
   "execution_count": null,
   "id": "0f10516a",
   "metadata": {},
   "outputs": [],
   "source": []
  },
  {
   "cell_type": "code",
   "execution_count": null,
   "id": "09a2a80a",
   "metadata": {},
   "outputs": [],
   "source": []
  },
  {
   "cell_type": "code",
   "execution_count": null,
   "id": "03cc4fc4",
   "metadata": {},
   "outputs": [],
   "source": []
  },
  {
   "cell_type": "code",
   "execution_count": null,
   "id": "3641cd7f",
   "metadata": {},
   "outputs": [],
   "source": []
  },
  {
   "cell_type": "code",
   "execution_count": null,
   "id": "ea8001ef",
   "metadata": {},
   "outputs": [],
   "source": []
  }
 ],
 "metadata": {
  "kernelspec": {
   "display_name": "Python 3 (ipykernel)",
   "language": "python",
   "name": "python3"
  },
  "language_info": {
   "codemirror_mode": {
    "name": "ipython",
    "version": 3
   },
   "file_extension": ".py",
   "mimetype": "text/x-python",
   "name": "python",
   "nbconvert_exporter": "python",
   "pygments_lexer": "ipython3",
   "version": "3.9.12"
  }
 },
 "nbformat": 4,
 "nbformat_minor": 5
}
