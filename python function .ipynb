{
 "cells": [
  {
   "cell_type": "code",
   "execution_count": 1,
   "id": "fc3784fa-1702-40b7-886a-88c5e0d2568c",
   "metadata": {},
   "outputs": [],
   "source": [
    "def greet():\n",
    "    print('hello')\n",
    "    print('good morning')"
   ]
  },
  {
   "cell_type": "code",
   "execution_count": 2,
   "id": "1f57a59f-a28f-465d-825d-6c614d0eea1b",
   "metadata": {},
   "outputs": [
    {
     "name": "stdout",
     "output_type": "stream",
     "text": [
      "hello\n",
      "good morning\n"
     ]
    }
   ],
   "source": [
    "def greet():\n",
    "    print('hello')\n",
    "    print('good morning')\n",
    "greet()"
   ]
  },
  {
   "cell_type": "code",
   "execution_count": 4,
   "id": "44073be9-9d8b-4913-91c0-32bb711a8863",
   "metadata": {},
   "outputs": [
    {
     "name": "stdout",
     "output_type": "stream",
     "text": [
      "hello\n",
      "good morning\n",
      "hello\n",
      "good morning\n",
      "hello\n",
      "good morning\n"
     ]
    }
   ],
   "source": [
    "def greet():\n",
    "    print('hello')\n",
    "    print('good morning')\n",
    "greet()\n",
    "\n",
    "def greet():\n",
    "    print('hello')\n",
    "    print('good morning')\n",
    "greet()\n",
    "\n",
    "def greet():\n",
    "    print('hello')\n",
    "    print('good morning')\n",
    "greet()"
   ]
  },
  {
   "cell_type": "code",
   "execution_count": 8,
   "id": "6176b0b9-35d0-4905-b239-f5dac12ba9fc",
   "metadata": {},
   "outputs": [
    {
     "name": "stdout",
     "output_type": "stream",
     "text": [
      "hello\n",
      "good morning\n",
      "\n",
      "hello\n",
      "good morning\n",
      "\n",
      "hello\n",
      "good morning\n"
     ]
    }
   ],
   "source": [
    "def greet():\n",
    "    print('hello')\n",
    "    print('good morning')\n",
    "greet()\n",
    "print()\n",
    "greet()\n",
    "print()\n",
    "greet()"
   ]
  },
  {
   "cell_type": "code",
   "execution_count": 9,
   "id": "6e94c367-c8d2-49f5-aa2f-260d32220b67",
   "metadata": {},
   "outputs": [
    {
     "name": "stdout",
     "output_type": "stream",
     "text": [
      "11\n"
     ]
    }
   ],
   "source": [
    "def add(x,y):\n",
    "    c=x+y\n",
    "    print(c)  \n",
    "add(5,6)"
   ]
  },
  {
   "cell_type": "code",
   "execution_count": 11,
   "id": "d1ee53e9-7774-4b0f-b535-7ef4a105555a",
   "metadata": {},
   "outputs": [
    {
     "name": "stdout",
     "output_type": "stream",
     "text": [
      "11\n"
     ]
    }
   ],
   "source": [
    "def add(x,y):\n",
    "    c=x+y\n",
    "    print(c)  \n",
    "add(5,6)"
   ]
  },
  {
   "cell_type": "code",
   "execution_count": 12,
   "id": "df4a5164-84a0-4f0c-a7c2-b34a847217e0",
   "metadata": {},
   "outputs": [
    {
     "name": "stdout",
     "output_type": "stream",
     "text": [
      "10\n"
     ]
    }
   ],
   "source": [
    "def add(x,y,z):\n",
    "    c=x+y+z\n",
    "    print(c)  \n",
    "add(1,4,5)"
   ]
  },
  {
   "cell_type": "code",
   "execution_count": 13,
   "id": "e7260ac2-4feb-4703-9e04-b393f194c3fb",
   "metadata": {},
   "outputs": [
    {
     "name": "stdout",
     "output_type": "stream",
     "text": [
      "hello\n",
      "good morning\n",
      "10\n"
     ]
    }
   ],
   "source": [
    "def greet():\n",
    "    print('hello')\n",
    "    print('good morning')\n",
    "greet()\n",
    "\n",
    "def add(x,y,z):\n",
    "    c=x+y+z\n",
    "    print(c)  \n",
    "add(1,4,5)"
   ]
  },
  {
   "cell_type": "code",
   "execution_count": 14,
   "id": "d7da58c2-1cce-47e5-a7d7-cb6df07d1ef8",
   "metadata": {},
   "outputs": [
    {
     "name": "stdout",
     "output_type": "stream",
     "text": [
      "hello\n",
      "good morning\n",
      "10\n"
     ]
    }
   ],
   "source": [
    "def greet():\n",
    "    print('hello')\n",
    "    print('good morning')\n",
    "    \n",
    "def add(x,y,z):\n",
    "    c=x+y+z\n",
    "    print(c)  \n",
    "\n",
    "greet()\n",
    "add(1,4,5)"
   ]
  },
  {
   "cell_type": "code",
   "execution_count": 15,
   "id": "de83a99a-d14c-47f2-9aa8-a1290763cdea",
   "metadata": {},
   "outputs": [
    {
     "name": "stdout",
     "output_type": "stream",
     "text": [
      "hello\n",
      "good noon\n",
      "9\n",
      "4\n"
     ]
    }
   ],
   "source": [
    "def greet():\n",
    "    print('hello')\n",
    "    print('good noon')\n",
    "    \n",
    "def add(x,y):\n",
    "    c=x+y\n",
    "    print(c)\n",
    "\n",
    "def sub(x,y,z):\n",
    "    d = x-y-z\n",
    "    print(d)\n",
    "    \n",
    "greet()    \n",
    "add(5,4)\n",
    "sub(10,2,4)\n",
    "# you can create mutliple function and call them as many time as you want"
   ]
  },
  {
   "cell_type": "code",
   "execution_count": 17,
   "id": "fdf9a3b9-f151-48f4-8688-eea9bee2048f",
   "metadata": {},
   "outputs": [
    {
     "data": {
      "text/plain": [
       "54"
      ]
     },
     "execution_count": 17,
     "metadata": {},
     "output_type": "execute_result"
    }
   ],
   "source": [
    "def add(x,y):\n",
    "    c=x+y\n",
    "    return c\n",
    "\n",
    "add(50,4)"
   ]
  },
  {
   "cell_type": "code",
   "execution_count": 22,
   "id": "57c5d9ac-e73e-4ee6-863b-73b6c9a97608",
   "metadata": {},
   "outputs": [
    {
     "ename": "TypeError",
     "evalue": "sub() missing 1 required positional argument: 'z'",
     "output_type": "error",
     "traceback": [
      "\u001b[1;31m---------------------------------------------------------------------------\u001b[0m",
      "\u001b[1;31mTypeError\u001b[0m                                 Traceback (most recent call last)",
      "Cell \u001b[1;32mIn[22], line 7\u001b[0m\n\u001b[0;32m      4\u001b[0m     \u001b[38;5;28;01mreturn\u001b[39;00m c\n\u001b[0;32m      5\u001b[0m     \u001b[38;5;28;01mreturn\u001b[39;00m d\n\u001b[1;32m----> 7\u001b[0m sub(\u001b[38;5;241m50\u001b[39m,\u001b[38;5;241m4\u001b[39m)\n\u001b[0;32m      8\u001b[0m add(\u001b[38;5;241m50\u001b[39m,\u001b[38;5;241m4\u001b[39m)\n",
      "\u001b[1;31mTypeError\u001b[0m: sub() missing 1 required positional argument: 'z'"
     ]
    }
   ],
   "source": [
    "def add(x,y):\n",
    "    c=x+y\n",
    "    d=x-y\n",
    "    return c\n",
    "    return d\n",
    "\n",
    "sub(50,4)\n",
    "add(50,4)"
   ]
  },
  {
   "cell_type": "code",
   "execution_count": 25,
   "id": "e668325f-fea9-46dc-bdb2-d7736411ad4d",
   "metadata": {},
   "outputs": [
    {
     "name": "stdout",
     "output_type": "stream",
     "text": [
      "46\n",
      "54\n"
     ]
    }
   ],
   "source": [
    "def add(x,y):\n",
    "    c=x+y\n",
    "    return c\n",
    "    \n",
    "def sub(x,y):\n",
    "    d=x-y\n",
    "    return d\n",
    "\n",
    "su = sub(50,4)\n",
    "ad = add(50,4)\n",
    "\n",
    "print(su)\n",
    "print(ad)"
   ]
  },
  {
   "cell_type": "code",
   "execution_count": 26,
   "id": "38e571f3-03b9-4b49-b71e-ca08af9a008f",
   "metadata": {},
   "outputs": [
    {
     "data": {
      "text/plain": [
       "(54, 46)"
      ]
     },
     "execution_count": 26,
     "metadata": {},
     "output_type": "execute_result"
    }
   ],
   "source": [
    "def add_sub(x,y): # what if i want to return 2 values add_sub & i want to return 2 values & function can accept multiple value \n",
    "    c= x+y\n",
    "    d= x-y\n",
    "    return c, d \n",
    "    \n",
    "result add_sub(50,4)"
   ]
  },
  {
   "cell_type": "code",
   "execution_count": 29,
   "id": "12e24b01-a476-4ff5-9fbb-01563bb463ac",
   "metadata": {},
   "outputs": [
    {
     "name": "stdout",
     "output_type": "stream",
     "text": [
      "54\n",
      "46\n"
     ]
    }
   ],
   "source": [
    "def add_sub(x,y): # what if i want to return 2 values add_sub & i want to return 2 values & function can accept multiple value \n",
    "    c= x+y\n",
    "    d= x-y\n",
    "    return c, d \n",
    "    \n",
    "result1, result2 = add_sub(50,4)\n",
    "print(result1)\n",
    "print(result2)"
   ]
  },
  {
   "cell_type": "code",
   "execution_count": 30,
   "id": "8c16cb1d-dde3-4478-bc0e-35cffe28dd64",
   "metadata": {},
   "outputs": [
    {
     "name": "stdout",
     "output_type": "stream",
     "text": [
      "54\n",
      "46\n",
      "200\n"
     ]
    }
   ],
   "source": [
    "def add_sub_mul(x,y): # what if i want to return 2 values add_sub & i want to return 2 values & function can accept multiple value \n",
    "    c= x+y\n",
    "    d= x-y\n",
    "    e= x*y\n",
    "    return c, d, e\n",
    "    \n",
    "result1, result2,result3 = add_sub_mul(50,4)\n",
    "\n",
    "print(result1)\n",
    "print(result2)\n",
    "print(result3)"
   ]
  },
  {
   "cell_type": "code",
   "execution_count": 20,
   "id": "e5efe02c-2cd5-41af-959d-28264ad1e382",
   "metadata": {},
   "outputs": [
    {
     "name": "stdout",
     "output_type": "stream",
     "text": [
      "54\n"
     ]
    }
   ],
   "source": [
    "def add(x,y):\n",
    "    c=x+y\n",
    "    return c\n",
    "\n",
    "score = add(50,4)\n",
    "print(score)"
   ]
  },
  {
   "cell_type": "code",
   "execution_count": 31,
   "id": "ddd81a2a-0a78-4019-acf4-46e5c5513de3",
   "metadata": {},
   "outputs": [
    {
     "name": "stdout",
     "output_type": "stream",
     "text": [
      "11\n"
     ]
    }
   ],
   "source": [
    "def add(a,b): \n",
    "    c = a+b\n",
    "    print(c)\n",
    "    \n",
    "add(5,6)"
   ]
  },
  {
   "cell_type": "code",
   "execution_count": 35,
   "id": "ec7bc7ea-a962-4a71-bd61-302b5e24b76c",
   "metadata": {},
   "outputs": [
    {
     "name": "stdout",
     "output_type": "stream",
     "text": [
      "nit\n",
      "22\n"
     ]
    }
   ],
   "source": [
    "def person(name,age):\n",
    "    print(name)\n",
    "    print(age)\n",
    "    \n",
    "person('nit',22)"
   ]
  },
  {
   "cell_type": "code",
   "execution_count": 38,
   "id": "af29a827-32e9-461e-a188-0b1c614f8afd",
   "metadata": {},
   "outputs": [
    {
     "name": "stdout",
     "output_type": "stream",
     "text": [
      "22\n",
      "nit\n"
     ]
    }
   ],
   "source": [
    "def person(name,age):\n",
    "    print(name)\n",
    "    print(age)\n",
    "    \n",
    "person(22,'nit')"
   ]
  },
  {
   "cell_type": "code",
   "execution_count": 39,
   "id": "75917c8e-af76-4c9c-ae32-fe80cfd4c23a",
   "metadata": {},
   "outputs": [
    {
     "name": "stdout",
     "output_type": "stream",
     "text": [
      "22\n"
     ]
    },
    {
     "ename": "TypeError",
     "evalue": "unsupported operand type(s) for -: 'str' and 'int'",
     "output_type": "error",
     "traceback": [
      "\u001b[1;31m---------------------------------------------------------------------------\u001b[0m",
      "\u001b[1;31mTypeError\u001b[0m                                 Traceback (most recent call last)",
      "Cell \u001b[1;32mIn[39], line 5\u001b[0m\n\u001b[0;32m      2\u001b[0m     \u001b[38;5;28mprint\u001b[39m(name)\n\u001b[0;32m      3\u001b[0m     \u001b[38;5;28mprint\u001b[39m(age\u001b[38;5;241m-\u001b[39m\u001b[38;5;241m5\u001b[39m)\n\u001b[1;32m----> 5\u001b[0m person(\u001b[38;5;241m22\u001b[39m,\u001b[38;5;124m'\u001b[39m\u001b[38;5;124mnit\u001b[39m\u001b[38;5;124m'\u001b[39m)\n",
      "Cell \u001b[1;32mIn[39], line 3\u001b[0m, in \u001b[0;36mperson\u001b[1;34m(name, age)\u001b[0m\n\u001b[0;32m      1\u001b[0m \u001b[38;5;28;01mdef\u001b[39;00m \u001b[38;5;21mperson\u001b[39m(name,age):\n\u001b[0;32m      2\u001b[0m     \u001b[38;5;28mprint\u001b[39m(name)\n\u001b[1;32m----> 3\u001b[0m     \u001b[38;5;28mprint\u001b[39m(age\u001b[38;5;241m-\u001b[39m\u001b[38;5;241m5\u001b[39m)\n",
      "\u001b[1;31mTypeError\u001b[0m: unsupported operand type(s) for -: 'str' and 'int'"
     ]
    }
   ],
   "source": [
    "def person(name,age):\n",
    "    print(name)\n",
    "    print(age-5)\n",
    "    \n",
    "person(22,'nit')"
   ]
  },
  {
   "cell_type": "code",
   "execution_count": 43,
   "id": "2dc9d844-adac-43f2-9bb6-8f8de501cad2",
   "metadata": {},
   "outputs": [
    {
     "name": "stdout",
     "output_type": "stream",
     "text": [
      "nit\n",
      "17\n"
     ]
    }
   ],
   "source": [
    "def person(name,age):\n",
    "    print(name)\n",
    "    print(age-5)\n",
    "    \n",
    "person(age = 22, name = 'nit')"
   ]
  },
  {
   "cell_type": "code",
   "execution_count": 44,
   "id": "fa3f4340-c0e0-4618-87ec-3f23e1ed2026",
   "metadata": {},
   "outputs": [
    {
     "ename": "TypeError",
     "evalue": "person() missing 1 required positional argument: 'age'",
     "output_type": "error",
     "traceback": [
      "\u001b[1;31m---------------------------------------------------------------------------\u001b[0m",
      "\u001b[1;31mTypeError\u001b[0m                                 Traceback (most recent call last)",
      "Cell \u001b[1;32mIn[44], line 5\u001b[0m\n\u001b[0;32m      2\u001b[0m     \u001b[38;5;28mprint\u001b[39m(name)\n\u001b[0;32m      3\u001b[0m     \u001b[38;5;28mprint\u001b[39m(age)\n\u001b[1;32m----> 5\u001b[0m person(\u001b[38;5;124m'\u001b[39m\u001b[38;5;124mnit\u001b[39m\u001b[38;5;124m'\u001b[39m)\n",
      "\u001b[1;31mTypeError\u001b[0m: person() missing 1 required positional argument: 'age'"
     ]
    }
   ],
   "source": [
    "def person(name,age):\n",
    "    print(name)\n",
    "    print(age)\n",
    "    \n",
    "person('nit')"
   ]
  },
  {
   "cell_type": "code",
   "execution_count": 45,
   "id": "e054a5e4-a94c-416a-8a9a-dd9b871a5e19",
   "metadata": {},
   "outputs": [
    {
     "name": "stdout",
     "output_type": "stream",
     "text": [
      "nit\n",
      "18\n"
     ]
    }
   ],
   "source": [
    "def person(name,age=18):\n",
    "    print(name)\n",
    "    print(age)\n",
    "    \n",
    "person('nit')"
   ]
  },
  {
   "cell_type": "code",
   "execution_count": 46,
   "id": "adbc4b08-b17b-4ba1-9a22-df892192ee7c",
   "metadata": {},
   "outputs": [
    {
     "name": "stdout",
     "output_type": "stream",
     "text": [
      "nit\n",
      "20\n"
     ]
    }
   ],
   "source": [
    "def person(name,age=18):\n",
    "    print(name)\n",
    "    print(age)\n",
    "    \n",
    "person('nit',20)"
   ]
  },
  {
   "cell_type": "code",
   "execution_count": null,
   "id": "ded75492-fbd2-4b30-8723-1e3f1bdabf1e",
   "metadata": {},
   "outputs": [],
   "source": []
  },
  {
   "cell_type": "code",
   "execution_count": null,
   "id": "824571e5-64b8-4c72-ac3f-4741978b697f",
   "metadata": {},
   "outputs": [],
   "source": []
  }
 ],
 "metadata": {
  "kernelspec": {
   "display_name": "Python 3 (ipykernel)",
   "language": "python",
   "name": "python3"
  },
  "language_info": {
   "codemirror_mode": {
    "name": "ipython",
    "version": 3
   },
   "file_extension": ".py",
   "mimetype": "text/x-python",
   "name": "python",
   "nbconvert_exporter": "python",
   "pygments_lexer": "ipython3",
   "version": "3.11.7"
  }
 },
 "nbformat": 4,
 "nbformat_minor": 5
}
